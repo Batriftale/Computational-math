{
 "cells": [
  {
   "cell_type": "markdown",
   "metadata": {},
   "source": [
    "# Лабораторная работа №3"
   ]
  },
  {
   "cell_type": "markdown",
   "metadata": {},
   "source": [
    "### **Метод Рунге-Кутты решения задачи Коши для обыкновенных дифференциальных уравнений первого порядка**"
   ]
  },
  {
   "cell_type": "markdown",
   "metadata": {},
   "source": [
    "### Вариант 11"
   ]
  },
  {
   "cell_type": "markdown",
   "metadata": {},
   "source": [
    "**Цель:** численное решение задачи Коши для обыкновенного дифференциального уравнения первого порядка с начальным условием на конце отрезка интегрирования"
   ]
  },
  {
   "cell_type": "markdown",
   "metadata": {},
   "source": [
    "В задании предлагается решить следующую дифференциальную задачу модифицированным методом Эйлера на интервале (1,2) с заданной точностью $\\varepsilon = 10^{-4}$:"
   ]
  },
  {
   "cell_type": "markdown",
   "metadata": {},
   "source": [
    "$$ xy' - xy^{2} - (2x^{2} + 1)y - x^{3} = 0; y(1) = -3 $$"
   ]
  },
  {
   "cell_type": "markdown",
   "metadata": {},
   "source": [
    "Модифицированный метод Эйлера:"
   ]
  },
  {
   "cell_type": "markdown",
   "metadata": {},
   "source": [
    "$$ f_{1} = f(x_{n}, y_{n}); f_{2} = f(x_{n} + h/2; y_{n} + h/2f_{2}); y_{n+1} = y_{n} + hf_{2} $$"
   ]
  },
  {
   "cell_type": "markdown",
   "metadata": {},
   "source": [
    "С таблицей Бутчера:"
   ]
  },
  {
   "cell_type": "markdown",
   "metadata": {},
   "source": [
    "$$ c_{1} = 0, c_{2} = 1/2; a_{21} = 1/2 ; b_{1} = 0 ; b_{2} = 1 $$"
   ]
  },
  {
   "cell_type": "code",
   "execution_count": 4,
   "metadata": {},
   "outputs": [],
   "source": [
    "import numpy as np\n",
    "import pandas as pd\n",
    "import matplotlib.pyplot as plt\n",
    "import math"
   ]
  },
  {
   "cell_type": "markdown",
   "metadata": {},
   "source": [
    "Определим необходимые функции"
   ]
  },
  {
   "cell_type": "markdown",
   "metadata": {},
   "source": [
    "Из заданного уравнения выразим y', это будет функция f"
   ]
  },
  {
   "cell_type": "markdown",
   "metadata": {},
   "source": [
    "$$ y' = \\frac{x^{3} + (2x^{2} + 1)y + xy^{2}}{x} $$"
   ]
  },
  {
   "cell_type": "code",
   "execution_count": 5,
   "metadata": {},
   "outputs": [],
   "source": [
    "def f(x, y):\n",
    "    return (x**3 + (2 * x**2 + 1) * y + x * y**2)/x\n",
    "\n",
    "def f1(x, y):\n",
    "    return f(x, y)\n",
    "\n",
    "def f2(x, y, h):\n",
    "    return f(x + h/2, y + h/2 * f1(x, y))\n",
    "\n",
    "def euler(y, x, h):\n",
    "    return y + h * f2(x, y, h)"
   ]
  },
  {
   "cell_type": "code",
   "execution_count": 34,
   "metadata": {},
   "outputs": [],
   "source": [
    "x_0 = 1\n",
    "x_2 = 2\n",
    "\n",
    "y_0 = -3\n",
    "N = 60"
   ]
  },
  {
   "cell_type": "code",
   "execution_count": 35,
   "metadata": {},
   "outputs": [],
   "source": [
    "h = (x_2 - x_0)/N ## шаг сетки\n",
    "x = np.arange(x_0, x_2+h, h) ## узлы сетки"
   ]
  },
  {
   "cell_type": "code",
   "execution_count": 36,
   "metadata": {},
   "outputs": [],
   "source": [
    "y = [0 for i in range(len(x))]\n",
    "y[0] = y_0"
   ]
  },
  {
   "cell_type": "code",
   "execution_count": 37,
   "metadata": {},
   "outputs": [],
   "source": [
    "for n in range(len(y) - 1):\n",
    "    y[n + 1] = euler(y[n], x[n], h)"
   ]
  },
  {
   "cell_type": "code",
   "execution_count": 38,
   "metadata": {},
   "outputs": [],
   "source": [
    "x_first = [0 for i in range(11)]\n",
    "y_first = [0 for i in range(11)]\n",
    "\n",
    "k = 0\n",
    "for i in range(len(x)):\n",
    "    if (i % (N / 10) == 0):\n",
    "        x_first[k] = x[i]\n",
    "        y_first[k] = y[i]\n",
    "        k += 1\n",
    "        \n",
    "for i in range(len(x_first)):\n",
    "    x_first[i] = \"{:.2f}\".format(x_first[i])\n",
    "    y_first[i] = \"{:.15f}\".format(y_first[i])\n",
    "\n",
    "x_first.insert(0, '$x_i$')\n",
    "y_first.insert(0, '$y^{h}_i$')\n"
   ]
  },
  {
   "cell_type": "code",
   "execution_count": 39,
   "metadata": {},
   "outputs": [
    {
     "data": {
      "text/html": [
       "<style  type=\"text/css\" >\n",
       "</style><table id=\"T_bd235434_5c1b_11ec_b5b4_7cb27d0424ea\" ><caption>Таблица 1. Значения сеточной функции в 11 узлах сетки</caption><thead>    <tr>        <th class=\"col_heading level0 col0\" >0</th>        <th class=\"col_heading level0 col1\" >1</th>        <th class=\"col_heading level0 col2\" >2</th>        <th class=\"col_heading level0 col3\" >3</th>        <th class=\"col_heading level0 col4\" >4</th>        <th class=\"col_heading level0 col5\" >5</th>        <th class=\"col_heading level0 col6\" >6</th>        <th class=\"col_heading level0 col7\" >7</th>        <th class=\"col_heading level0 col8\" >8</th>        <th class=\"col_heading level0 col9\" >9</th>        <th class=\"col_heading level0 col10\" >10</th>        <th class=\"col_heading level0 col11\" >11</th>    </tr></thead><tbody>\n",
       "                <tr>\n",
       "                                <td id=\"T_bd235434_5c1b_11ec_b5b4_7cb27d0424earow0_col0\" class=\"data row0 col0\" >$x_i$</td>\n",
       "                        <td id=\"T_bd235434_5c1b_11ec_b5b4_7cb27d0424earow0_col1\" class=\"data row0 col1\" >1.00</td>\n",
       "                        <td id=\"T_bd235434_5c1b_11ec_b5b4_7cb27d0424earow0_col2\" class=\"data row0 col2\" >1.10</td>\n",
       "                        <td id=\"T_bd235434_5c1b_11ec_b5b4_7cb27d0424earow0_col3\" class=\"data row0 col3\" >1.20</td>\n",
       "                        <td id=\"T_bd235434_5c1b_11ec_b5b4_7cb27d0424earow0_col4\" class=\"data row0 col4\" >1.30</td>\n",
       "                        <td id=\"T_bd235434_5c1b_11ec_b5b4_7cb27d0424earow0_col5\" class=\"data row0 col5\" >1.40</td>\n",
       "                        <td id=\"T_bd235434_5c1b_11ec_b5b4_7cb27d0424earow0_col6\" class=\"data row0 col6\" >1.50</td>\n",
       "                        <td id=\"T_bd235434_5c1b_11ec_b5b4_7cb27d0424earow0_col7\" class=\"data row0 col7\" >1.60</td>\n",
       "                        <td id=\"T_bd235434_5c1b_11ec_b5b4_7cb27d0424earow0_col8\" class=\"data row0 col8\" >1.70</td>\n",
       "                        <td id=\"T_bd235434_5c1b_11ec_b5b4_7cb27d0424earow0_col9\" class=\"data row0 col9\" >1.80</td>\n",
       "                        <td id=\"T_bd235434_5c1b_11ec_b5b4_7cb27d0424earow0_col10\" class=\"data row0 col10\" >1.90</td>\n",
       "                        <td id=\"T_bd235434_5c1b_11ec_b5b4_7cb27d0424earow0_col11\" class=\"data row0 col11\" >2.00</td>\n",
       "            </tr>\n",
       "            <tr>\n",
       "                                <td id=\"T_bd235434_5c1b_11ec_b5b4_7cb27d0424earow1_col0\" class=\"data row1 col0\" >$y^{h}_i$</td>\n",
       "                        <td id=\"T_bd235434_5c1b_11ec_b5b4_7cb27d0424earow1_col1\" class=\"data row1 col1\" >-3.000000000000000</td>\n",
       "                        <td id=\"T_bd235434_5c1b_11ec_b5b4_7cb27d0424earow1_col2\" class=\"data row1 col2\" >-2.918223049809062</td>\n",
       "                        <td id=\"T_bd235434_5c1b_11ec_b5b4_7cb27d0424earow1_col3\" class=\"data row1 col3\" >-2.866727333188781</td>\n",
       "                        <td id=\"T_bd235434_5c1b_11ec_b5b4_7cb27d0424earow1_col4\" class=\"data row1 col4\" >-2.838530117177543</td>\n",
       "                        <td id=\"T_bd235434_5c1b_11ec_b5b4_7cb27d0424earow1_col5\" class=\"data row1 col5\" >-2.828641768311905</td>\n",
       "                        <td id=\"T_bd235434_5c1b_11ec_b5b4_7cb27d0424earow1_col6\" class=\"data row1 col6\" >-2.833402180639086</td>\n",
       "                        <td id=\"T_bd235434_5c1b_11ec_b5b4_7cb27d0424earow1_col7\" class=\"data row1 col7\" >-2.850065699599939</td>\n",
       "                        <td id=\"T_bd235434_5c1b_11ec_b5b4_7cb27d0424earow1_col8\" class=\"data row1 col8\" >-2.876532377848865</td>\n",
       "                        <td id=\"T_bd235434_5c1b_11ec_b5b4_7cb27d0424earow1_col9\" class=\"data row1 col9\" >-2.911168728758059</td>\n",
       "                        <td id=\"T_bd235434_5c1b_11ec_b5b4_7cb27d0424earow1_col10\" class=\"data row1 col10\" >-2.952685039926351</td>\n",
       "                        <td id=\"T_bd235434_5c1b_11ec_b5b4_7cb27d0424earow1_col11\" class=\"data row1 col11\" >-3.000049468480683</td>\n",
       "            </tr>\n",
       "    </tbody></table>"
      ],
      "text/plain": [
       "<pandas.io.formats.style.Styler at 0x1e9b481abe0>"
      ]
     },
     "execution_count": 39,
     "metadata": {},
     "output_type": "execute_result"
    }
   ],
   "source": [
    "df = pd.DataFrame(np.array([x_first, y_first]))\n",
    "\n",
    "df.style.set_caption('Таблица 1. Значения сеточной функции в 11 узлах сетки').hide_index()"
   ]
  },
  {
   "cell_type": "code",
   "execution_count": 40,
   "metadata": {},
   "outputs": [],
   "source": [
    "del x_first[0]\n",
    "del y_first[0]"
   ]
  },
  {
   "cell_type": "markdown",
   "metadata": {},
   "source": [
    "Для оценки погрешности введем величину"
   ]
  },
  {
   "cell_type": "markdown",
   "metadata": {},
   "source": [
    "$$ \\sigma_i = \\frac{|y^{(2h)}_i - y^{(h)}_i|}{2^k - 1}.$$ "
   ]
  },
  {
   "cell_type": "markdown",
   "metadata": {},
   "source": [
    "Здесь $k$ - порядок точности метода численного решения разностной задачи. Так как рассматривается модифицированный метод Эйлера, то $k = 2$."
   ]
  },
  {
   "cell_type": "markdown",
   "metadata": {},
   "source": [
    "Потребуем, чтобы максимум из набора $\\lbrace \\sigma_i \\rbrace$ не превышал величины $\\varepsilon = 10^{-4}$, заданной по условию задачи."
   ]
  },
  {
   "cell_type": "markdown",
   "metadata": {},
   "source": [
    "$$ \\max\\limits_{i}(\\sigma_i) \\leqslant \\varepsilon.$$"
   ]
  },
  {
   "cell_type": "code",
   "execution_count": 41,
   "metadata": {},
   "outputs": [],
   "source": [
    "N = N/2\n",
    "h = (x_2 - x_0)/N\n",
    "\n",
    "x = np.arange(x_0, x_2 + h, h)\n",
    "\n",
    "w = [0 for i in range(len(x))]\n",
    "w[0] = y_0\n",
    "\n",
    "for n in range(len(w) - 1):\n",
    "    w[n + 1] = euler(w[n], x[n], h)\n",
    "    \n",
    "x_second = [0 for i in range(11)]\n",
    "y_second = [0 for i in range(11)]\n",
    "error = [0 for i in range(11)]\n",
    "\n",
    "k = 0\n",
    "\n",
    "for i in range(len(x)):\n",
    "    if (i % (N / 10) == 0):\n",
    "        x_second[k] = x[i]\n",
    "        y_second[k] = w[i]\n",
    "        k += 1\n",
    "\n",
    "for i in range(11):\n",
    "    error[i] = abs(y_second[i] - float(y_first[i]))/3\n",
    "    error[i] = \"{:.15f}\".format(error[i])\n",
    "    x_second[i] = \"{:.2f}\".format(x_second[i])\n",
    "    y_second[i] = \"{:.15f}\".format(y_second[i])\n",
    "\n",
    "x_first.insert(0, '$x_i$')\n",
    "y_first.insert(0, '$y^{h}_i$')\n",
    "y_second.insert(0, '$y^{2h}_i$')\n",
    "error.insert(0, '$\\sigma_i$')\n"
   ]
  },
  {
   "cell_type": "code",
   "execution_count": 42,
   "metadata": {},
   "outputs": [
    {
     "data": {
      "text/html": [
       "<style  type=\"text/css\" >\n",
       "</style><table id=\"T_c0e237f9_5c1b_11ec_9f41_7cb27d0424ea\" ><caption>Таблица 2. Оценка погрешности численного решения задачи Коши</caption><thead>    <tr>        <th class=\"col_heading level0 col0\" >0</th>        <th class=\"col_heading level0 col1\" >1</th>        <th class=\"col_heading level0 col2\" >2</th>        <th class=\"col_heading level0 col3\" >3</th>        <th class=\"col_heading level0 col4\" >4</th>        <th class=\"col_heading level0 col5\" >5</th>        <th class=\"col_heading level0 col6\" >6</th>        <th class=\"col_heading level0 col7\" >7</th>        <th class=\"col_heading level0 col8\" >8</th>        <th class=\"col_heading level0 col9\" >9</th>        <th class=\"col_heading level0 col10\" >10</th>        <th class=\"col_heading level0 col11\" >11</th>    </tr></thead><tbody>\n",
       "                <tr>\n",
       "                                <td id=\"T_c0e237f9_5c1b_11ec_9f41_7cb27d0424earow0_col0\" class=\"data row0 col0\" >$x_i$</td>\n",
       "                        <td id=\"T_c0e237f9_5c1b_11ec_9f41_7cb27d0424earow0_col1\" class=\"data row0 col1\" >1.00</td>\n",
       "                        <td id=\"T_c0e237f9_5c1b_11ec_9f41_7cb27d0424earow0_col2\" class=\"data row0 col2\" >1.10</td>\n",
       "                        <td id=\"T_c0e237f9_5c1b_11ec_9f41_7cb27d0424earow0_col3\" class=\"data row0 col3\" >1.20</td>\n",
       "                        <td id=\"T_c0e237f9_5c1b_11ec_9f41_7cb27d0424earow0_col4\" class=\"data row0 col4\" >1.30</td>\n",
       "                        <td id=\"T_c0e237f9_5c1b_11ec_9f41_7cb27d0424earow0_col5\" class=\"data row0 col5\" >1.40</td>\n",
       "                        <td id=\"T_c0e237f9_5c1b_11ec_9f41_7cb27d0424earow0_col6\" class=\"data row0 col6\" >1.50</td>\n",
       "                        <td id=\"T_c0e237f9_5c1b_11ec_9f41_7cb27d0424earow0_col7\" class=\"data row0 col7\" >1.60</td>\n",
       "                        <td id=\"T_c0e237f9_5c1b_11ec_9f41_7cb27d0424earow0_col8\" class=\"data row0 col8\" >1.70</td>\n",
       "                        <td id=\"T_c0e237f9_5c1b_11ec_9f41_7cb27d0424earow0_col9\" class=\"data row0 col9\" >1.80</td>\n",
       "                        <td id=\"T_c0e237f9_5c1b_11ec_9f41_7cb27d0424earow0_col10\" class=\"data row0 col10\" >1.90</td>\n",
       "                        <td id=\"T_c0e237f9_5c1b_11ec_9f41_7cb27d0424earow0_col11\" class=\"data row0 col11\" >2.00</td>\n",
       "            </tr>\n",
       "            <tr>\n",
       "                                <td id=\"T_c0e237f9_5c1b_11ec_9f41_7cb27d0424earow1_col0\" class=\"data row1 col0\" >$y^{h}_i$</td>\n",
       "                        <td id=\"T_c0e237f9_5c1b_11ec_9f41_7cb27d0424earow1_col1\" class=\"data row1 col1\" >-3.000000000000000</td>\n",
       "                        <td id=\"T_c0e237f9_5c1b_11ec_9f41_7cb27d0424earow1_col2\" class=\"data row1 col2\" >-2.918223049809062</td>\n",
       "                        <td id=\"T_c0e237f9_5c1b_11ec_9f41_7cb27d0424earow1_col3\" class=\"data row1 col3\" >-2.866727333188781</td>\n",
       "                        <td id=\"T_c0e237f9_5c1b_11ec_9f41_7cb27d0424earow1_col4\" class=\"data row1 col4\" >-2.838530117177543</td>\n",
       "                        <td id=\"T_c0e237f9_5c1b_11ec_9f41_7cb27d0424earow1_col5\" class=\"data row1 col5\" >-2.828641768311905</td>\n",
       "                        <td id=\"T_c0e237f9_5c1b_11ec_9f41_7cb27d0424earow1_col6\" class=\"data row1 col6\" >-2.833402180639086</td>\n",
       "                        <td id=\"T_c0e237f9_5c1b_11ec_9f41_7cb27d0424earow1_col7\" class=\"data row1 col7\" >-2.850065699599939</td>\n",
       "                        <td id=\"T_c0e237f9_5c1b_11ec_9f41_7cb27d0424earow1_col8\" class=\"data row1 col8\" >-2.876532377848865</td>\n",
       "                        <td id=\"T_c0e237f9_5c1b_11ec_9f41_7cb27d0424earow1_col9\" class=\"data row1 col9\" >-2.911168728758059</td>\n",
       "                        <td id=\"T_c0e237f9_5c1b_11ec_9f41_7cb27d0424earow1_col10\" class=\"data row1 col10\" >-2.952685039926351</td>\n",
       "                        <td id=\"T_c0e237f9_5c1b_11ec_9f41_7cb27d0424earow1_col11\" class=\"data row1 col11\" >-3.000049468480683</td>\n",
       "            </tr>\n",
       "            <tr>\n",
       "                                <td id=\"T_c0e237f9_5c1b_11ec_9f41_7cb27d0424earow2_col0\" class=\"data row2 col0\" >$y^{2h}_i$</td>\n",
       "                        <td id=\"T_c0e237f9_5c1b_11ec_9f41_7cb27d0424earow2_col1\" class=\"data row2 col1\" >-3.000000000000000</td>\n",
       "                        <td id=\"T_c0e237f9_5c1b_11ec_9f41_7cb27d0424earow2_col2\" class=\"data row2 col2\" >-2.918352749440238</td>\n",
       "                        <td id=\"T_c0e237f9_5c1b_11ec_9f41_7cb27d0424earow2_col3\" class=\"data row2 col3\" >-2.866917854259587</td>\n",
       "                        <td id=\"T_c0e237f9_5c1b_11ec_9f41_7cb27d0424earow2_col4\" class=\"data row2 col4\" >-2.838745166959340</td>\n",
       "                        <td id=\"T_c0e237f9_5c1b_11ec_9f41_7cb27d0424earow2_col5\" class=\"data row2 col5\" >-2.828862044503735</td>\n",
       "                        <td id=\"T_c0e237f9_5c1b_11ec_9f41_7cb27d0424earow2_col6\" class=\"data row2 col6\" >-2.833617520504733</td>\n",
       "                        <td id=\"T_c0e237f9_5c1b_11ec_9f41_7cb27d0424earow2_col7\" class=\"data row2 col7\" >-2.850270965877362</td>\n",
       "                        <td id=\"T_c0e237f9_5c1b_11ec_9f41_7cb27d0424earow2_col8\" class=\"data row2 col8\" >-2.876725231816690</td>\n",
       "                        <td id=\"T_c0e237f9_5c1b_11ec_9f41_7cb27d0424earow2_col9\" class=\"data row2 col9\" >-2.911348393412453</td>\n",
       "                        <td id=\"T_c0e237f9_5c1b_11ec_9f41_7cb27d0424earow2_col10\" class=\"data row2 col10\" >-2.952851599500672</td>\n",
       "                        <td id=\"T_c0e237f9_5c1b_11ec_9f41_7cb27d0424earow2_col11\" class=\"data row2 col11\" >-3.000203466354938</td>\n",
       "            </tr>\n",
       "            <tr>\n",
       "                                <td id=\"T_c0e237f9_5c1b_11ec_9f41_7cb27d0424earow3_col0\" class=\"data row3 col0\" >$\\sigma_i$</td>\n",
       "                        <td id=\"T_c0e237f9_5c1b_11ec_9f41_7cb27d0424earow3_col1\" class=\"data row3 col1\" >0.000000000000000</td>\n",
       "                        <td id=\"T_c0e237f9_5c1b_11ec_9f41_7cb27d0424earow3_col2\" class=\"data row3 col2\" >0.000043233210392</td>\n",
       "                        <td id=\"T_c0e237f9_5c1b_11ec_9f41_7cb27d0424earow3_col3\" class=\"data row3 col3\" >0.000063507023602</td>\n",
       "                        <td id=\"T_c0e237f9_5c1b_11ec_9f41_7cb27d0424earow3_col4\" class=\"data row3 col4\" >0.000071683260599</td>\n",
       "                        <td id=\"T_c0e237f9_5c1b_11ec_9f41_7cb27d0424earow3_col5\" class=\"data row3 col5\" >0.000073425397277</td>\n",
       "                        <td id=\"T_c0e237f9_5c1b_11ec_9f41_7cb27d0424earow3_col6\" class=\"data row3 col6\" >0.000071779955216</td>\n",
       "                        <td id=\"T_c0e237f9_5c1b_11ec_9f41_7cb27d0424earow3_col7\" class=\"data row3 col7\" >0.000068422092474</td>\n",
       "                        <td id=\"T_c0e237f9_5c1b_11ec_9f41_7cb27d0424earow3_col8\" class=\"data row3 col8\" >0.000064284655942</td>\n",
       "                        <td id=\"T_c0e237f9_5c1b_11ec_9f41_7cb27d0424earow3_col9\" class=\"data row3 col9\" >0.000059888218131</td>\n",
       "                        <td id=\"T_c0e237f9_5c1b_11ec_9f41_7cb27d0424earow3_col10\" class=\"data row3 col10\" >0.000055519858107</td>\n",
       "                        <td id=\"T_c0e237f9_5c1b_11ec_9f41_7cb27d0424earow3_col11\" class=\"data row3 col11\" >0.000051332624752</td>\n",
       "            </tr>\n",
       "    </tbody></table>"
      ],
      "text/plain": [
       "<pandas.io.formats.style.Styler at 0x1e9b47f7c70>"
      ]
     },
     "execution_count": 42,
     "metadata": {},
     "output_type": "execute_result"
    }
   ],
   "source": [
    "df = pd.DataFrame(np.array([x_first, y_first, y_second, error]))\n",
    "\n",
    "df.style.set_caption('Таблица 2. Оценка погрешности численного решения задачи Коши').hide_index()"
   ]
  },
  {
   "cell_type": "markdown",
   "metadata": {},
   "source": [
    "Как видно из последней строки таблицы 2, все величины $\\sigma_i$ не превышают $\\varepsilon$ - условие достижения заданной точности выполнено."
   ]
  },
  {
   "cell_type": "code",
   "execution_count": null,
   "metadata": {},
   "outputs": [],
   "source": []
  },
  {
   "cell_type": "code",
   "execution_count": null,
   "metadata": {},
   "outputs": [],
   "source": []
  },
  {
   "cell_type": "code",
   "execution_count": null,
   "metadata": {},
   "outputs": [],
   "source": []
  },
  {
   "cell_type": "code",
   "execution_count": null,
   "metadata": {},
   "outputs": [],
   "source": []
  },
  {
   "cell_type": "code",
   "execution_count": null,
   "metadata": {},
   "outputs": [],
   "source": []
  },
  {
   "cell_type": "code",
   "execution_count": null,
   "metadata": {},
   "outputs": [],
   "source": []
  }
 ],
 "metadata": {
  "kernelspec": {
   "display_name": "Python 3",
   "language": "python",
   "name": "python3"
  },
  "language_info": {
   "codemirror_mode": {
    "name": "ipython",
    "version": 3
   },
   "file_extension": ".py",
   "mimetype": "text/x-python",
   "name": "python",
   "nbconvert_exporter": "python",
   "pygments_lexer": "ipython3",
   "version": "3.8.5"
  }
 },
 "nbformat": 4,
 "nbformat_minor": 4
}
