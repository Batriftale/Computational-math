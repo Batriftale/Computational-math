{
 "cells": [
  {
   "cell_type": "markdown",
   "metadata": {},
   "source": [
    "# Лабораторная работа №2"
   ]
  },
  {
   "cell_type": "markdown",
   "metadata": {},
   "source": [
    "## Вариант 11\n",
    "## Интерполяция. Сплайны"
   ]
  },
  {
   "cell_type": "markdown",
   "metadata": {},
   "source": [
    "$\\textbf{Цель}$: построение интерполяционного многочлена и кубического сплайна по заданной сетке"
   ]
  },
  {
   "cell_type": "markdown",
   "metadata": {},
   "source": [
    "Во многих приложениях возникает необходимость по известному набору точек $\\lbrace (x_i, y_i) \\rbrace_{i=0}^{n}$ ($x_i \\neq x_j$ при $i \\neq j$) построить функцию $f(x)$, график которой проходит через все точки из набора. Процесс построения функии $f$ называется **интерполяцией**, а саму функцию $f$ - **интерполяционной функцией**. Чаще всего в качестве интерполяционной функции рассматривают многочлены. Тогда идёт речь о **полиномиальной интерполяции**. По набору из $n+1$ точки можно однозначно построить многочлен степени не выше $n$."
   ]
  },
  {
   "cell_type": "markdown",
   "metadata": {},
   "source": [
    "Перед рассмотрением методов полиномиальной интерполяции введём некоторые определения. **Сеткой** будем называть множество $\\lbrace x_i \\rbrace_{i=0}^{n}$ (как указано ранее, все $x_i$ различны). Элементы сетки называются **узлами сетки**. $\\lbrace y_i \\rbrace_{i=0}^{n}$ - набор значений на сетке. Набор точек $\\lbrace (x_i, y_i) \\rbrace_{i=0}^{n}$ определяет **сеточную функцию** $g(x)$. Иногда задачу интерполяции ставят следующим образом: построить функцию $f(x)$, которая совпадает с сеточной функцией $g(x)$ на множестве узлов сетки $\\lbrace x_i \\rbrace_{i=0}^{n}$."
   ]
  },
  {
   "cell_type": "markdown",
   "metadata": {},
   "source": [
    "1. **Интерполяционный многочлен Ньютона**"
   ]
  },
  {
   "cell_type": "markdown",
   "metadata": {},
   "source": [
    "Интерполяционный многочлен Ньютона строится по следующей формуле"
   ]
  },
  {
   "cell_type": "markdown",
   "metadata": {},
   "source": [
    "$$ P_n(x) = \\sum\\limits_{j = 0}^{n} b_j \\prod\\limits_{i = 0}^{j - 1} (x - x_i),$$"
   ]
  },
  {
   "cell_type": "markdown",
   "metadata": {},
   "source": [
    "где $ b_j = f(x_0, x_1, ... , x_{j-1}, x_j)$."
   ]
  },
  {
   "cell_type": "markdown",
   "metadata": {},
   "source": [
    "Здесь использованы так называемые **разделённые разности** $f(x_0, x_1, ... , x_{j-1}, x_j)$, определяемые по реккурентной формуле"
   ]
  },
  {
   "cell_type": "markdown",
   "metadata": {},
   "source": [
    "$$ f(x_i, x_{i+1}, ..., x_{i+j}) = \\frac{f(x_{i+1}, x_{i+2}, ..., x_{i+j}) - f(x_i, x_{i+1}, ..., x_{i+j-1})}{x_{i+j} - x_{i}}.$$"
   ]
  },
  {
   "cell_type": "markdown",
   "metadata": {},
   "source": [
    "$$ f(x_i, x_{i+1}, ..., x_{i+j}) = \\sum\\limits_{k = 0}^{j} \\frac{f(x_{i+k})}{\\prod\\limits_{r = 0, \\: r \\neq i + j}^{j}  (x_{i + k} - x_{i+r})}.$$"
   ]
  },
  {
   "cell_type": "markdown",
   "metadata": {},
   "source": [
    "2. **Интерполяционный многочлен Лагранжа**"
   ]
  },
  {
   "cell_type": "markdown",
   "metadata": {},
   "source": [
    "Интерполяционный многочлен Лагранжа строится следующим образом"
   ]
  },
  {
   "cell_type": "markdown",
   "metadata": {},
   "source": [
    "$$ P_n(x) = \\sum\\limits_{j = 0}^{n} f_j \\prod\\limits_{i = 0, \\: i \\neq j}^{j} \\frac{(x - x_i)}{(x_j - x_i)}.$$\n"
   ]
  },
  {
   "cell_type": "markdown",
   "metadata": {},
   "source": [
    "Помимо построения полинома, который будет интерполировать заданное множество точек на всём отрезке $[x_0, x_n]$, можно воспользоваться **кусочно-многочленной интерполяцией**. Её суть заключается в следующем: если мы хотим построить кусочно-непрерывную функцию, интерполирующую все заданные точки, то мы можем соединить соседние точки отрезками. Это означает, что на каждом отрезке $[x_i, x_{i+1}]$ задана линейная функция $S_i(x):$ "
   ]
  },
  {
   "cell_type": "markdown",
   "metadata": {},
   "source": [
    "$$S_i(x_i) = y_i, \\: S_i(x_{i+1}) = y_{i+1}, \\quad i = \\overline{1, n-1}$$"
   ]
  },
  {
   "cell_type": "markdown",
   "metadata": {},
   "source": [
    "Если мы хотим потребовать от функции $T(x)$, которая получается \"сшивкой\" $\\lbrace S_i(x) \\rbrace$ по всем отрезкам, принадлежности классу гладкости $C^1[x_0, x_{n}]$, то необходимо искать $S_i(x)$ в классе кубических многочленов. "
   ]
  },
  {
   "cell_type": "markdown",
   "metadata": {},
   "source": [
    "$$ S_i(x) = (a_0)_i x^3 + (a_1)_i x^2 + (a_2)_i x + (a_3)_i $$"
   ]
  },
  {
   "cell_type": "markdown",
   "metadata": {},
   "source": [
    "Функцию $T(x)$ называют **кубическим сплайном**. Получим выражения для коэффициентов $a_{ij}$ кубического сплайна. Для этого нам необходимо знать представление для интерполяционного многочлена $P_n(x)$, а точнее представление для его производной $P_n'(x)$"
   ]
  },
  {
   "cell_type": "markdown",
   "metadata": {},
   "source": [
    "$$ S_i'(x) = 3(a_0)_i x^2 + 2(a_1)_i x + (a_2)_i $$."
   ]
  },
  {
   "cell_type": "markdown",
   "metadata": {},
   "source": [
    "$$ S_i'(x_i) = P_n'(x_i), \\:  S_{i+1}'(x_i) = P_n'(x_{i+1}), \\quad i = \\overline{1, n-1}$$"
   ]
  },
  {
   "cell_type": "markdown",
   "metadata": {},
   "source": [
    "Имеем 4 уравнения в системе с 4 неизвестными коэффициентами. Разрешив систему, мы можем получить представление для $S_i(x)$, а значит и для всего кубического сплайна $T(x)$."
   ]
  },
  {
   "cell_type": "code",
   "execution_count": 1,
   "metadata": {},
   "outputs": [],
   "source": [
    "%matplotlib inline\n",
    "import math\n",
    "import pandas as pd\n",
    "import numpy as np\n",
    "import matplotlib.pyplot as plt\n",
    "from itertools import combinations\n",
    "import seaborn as sns"
   ]
  },
  {
   "cell_type": "code",
   "execution_count": 2,
   "metadata": {},
   "outputs": [],
   "source": [
    "sns.set_theme()"
   ]
  },
  {
   "cell_type": "markdown",
   "metadata": {},
   "source": [
    "Для раскрытия выражения в формуле 1 требуется функция, которая бы считала комбинации $$\\prod\\limits_{i = 0}^{j - 1} (x - x_i),$$"
   ]
  },
  {
   "cell_type": "code",
   "execution_count": 3,
   "metadata": {},
   "outputs": [
    {
     "data": {
      "text/plain": [
       "[(0, 1), (0, 2), (0, 3), (1, 2), (1, 3), (2, 3)]"
      ]
     },
     "execution_count": 3,
     "metadata": {},
     "output_type": "execute_result"
    }
   ],
   "source": [
    "list(combinations(range(4),2))"
   ]
  },
  {
   "cell_type": "markdown",
   "metadata": {},
   "source": [
    "Напишем функцию для подсчета следующего произведения"
   ]
  },
  {
   "cell_type": "markdown",
   "metadata": {},
   "source": [
    "$$\\prod\\limits_{i = 0}^{j - 1} (x + x_i),$$"
   ]
  },
  {
   "cell_type": "markdown",
   "metadata": {},
   "source": [
    "По заданному списку из $\\lbrace x_i \\rbrace_{i=0}^{n}$ функция выводит коэффициенты полученного многочлена после раскрытия всех скобок."
   ]
  },
  {
   "cell_type": "code",
   "execution_count": 4,
   "metadata": {},
   "outputs": [],
   "source": [
    "def vieta(data):\n",
    "    k = len(data)\n",
    "    coeff = [0 for i in range(len(data))]\n",
    "    for i in range(k):\n",
    "        input = list(combinations(data, i+1))\n",
    "        result = [np.prod(tup) for tup in input]\n",
    "        for j in range(len(result)):\n",
    "            coeff[i] = coeff[i] + result[j]\n",
    "    coeff.insert(0, 1)\n",
    "    return coeff"
   ]
  },
  {
   "cell_type": "markdown",
   "metadata": {},
   "source": [
    "Пример: пусть корни квадратного уравнения : -4 и 2, возьмем их с минусами"
   ]
  },
  {
   "cell_type": "code",
   "execution_count": 5,
   "metadata": {},
   "outputs": [
    {
     "name": "stdout",
     "output_type": "stream",
     "text": [
      "[1, 2, -8]\n"
     ]
    }
   ],
   "source": [
    "data = [4, -2]\n",
    "coeff = vieta(data)\n",
    "print(coeff)"
   ]
  },
  {
   "cell_type": "markdown",
   "metadata": {},
   "source": [
    "(x + 4)(x - 2) = x$^{2}$ + 2x - 8. Работает верно"
   ]
  },
  {
   "cell_type": "markdown",
   "metadata": {},
   "source": [
    "Заданные в варианте 11 массивы сетки и узлов:"
   ]
  },
  {
   "cell_type": "code",
   "execution_count": 6,
   "metadata": {},
   "outputs": [],
   "source": [
    "x = [0.87267, 1.22173, 1.57080, 1.91986, 2.26893, 2.61799]\n",
    "y = [0.00161, 0.01550, 0.09139, 0.39329, 1.35729, 3.97819]"
   ]
  },
  {
   "cell_type": "markdown",
   "metadata": {},
   "source": [
    "1. **Интерполяционный многочлен Лагранжа**"
   ]
  },
  {
   "cell_type": "markdown",
   "metadata": {},
   "source": [
    "Посчитаем коэффициенты многочлена"
   ]
  },
  {
   "cell_type": "code",
   "execution_count": 7,
   "metadata": {},
   "outputs": [
    {
     "name": "stdout",
     "output_type": "stream",
     "text": [
      "[0.4611174269925238, -2.8581147077007003, 7.4752542536951125, -9.951100809924384, 6.627402927773602, -1.7473516731800913]\n"
     ]
    }
   ],
   "source": [
    "coeff = [-x[i] for i in range(len(x))]\n",
    "poly_l = [0 for i in range(len(x))]\n",
    "denominator = [0 for i in range(len(x) - 1)]\n",
    "\n",
    "for j in range(len(x)):\n",
    "    coeff.pop(j)\n",
    "    den = 1\n",
    "    for i in range(len(x) - 1):\n",
    "        denominator[i] =  coeff[i] + x[j]\n",
    "        den = denominator[i] * den\n",
    "    for i in range(len(x)):\n",
    "        poly_l[i] = poly_l[i] + vieta(coeff)[i] * y[j] / den\n",
    "    coeff.insert(j, -x[j])\n",
    "\n",
    "print(poly_l)"
   ]
  },
  {
   "cell_type": "markdown",
   "metadata": {},
   "source": [
    "Проверим лежат ли заданные точки на графике, заданном уравнением с посчитанными коэффициентами"
   ]
  },
  {
   "cell_type": "code",
   "execution_count": 8,
   "metadata": {},
   "outputs": [
    {
     "data": {
      "text/plain": [
       "Text(0, 0.5, 'y')"
      ]
     },
     "execution_count": 8,
     "metadata": {},
     "output_type": "execute_result"
    },
    {
     "data": {
      "image/png": "[encoded data removed]",
      "text/plain": [
       "<Figure size 1080x720 with 1 Axes>"
      ]
     },
     "metadata": {},
     "output_type": "display_data"
    }
   ],
   "source": [
    "plt.rcParams[\"figure.figsize\"] = (15,10)\n",
    "\n",
    "plt.scatter(x , y)\n",
    "\n",
    "x_ = np.linspace(0.87, 2.62, 100)\n",
    "y_ = 0.4611174269925238 * x_**5 + (-2.8581147077007003) * x_**4 + 7.4752542536951125 * x_**3 + (-9.951100809924384) * x_**2 + 6.627402927773602 * x_ + (-1.7473516731800913)\n",
    "\n",
    "plt.plot(x_, y_)\n",
    "\n",
    "plt.xlabel('x')\n",
    "plt.ylabel('y')\n"
   ]
  },
  {
   "cell_type": "markdown",
   "metadata": {},
   "source": [
    "2. **Интерполяционный многочлен Ньютона**"
   ]
  },
  {
   "cell_type": "code",
   "execution_count": 9,
   "metadata": {},
   "outputs": [],
   "source": [
    "def split(x, y, start, stop): #разделенные разности\n",
    "    sum = 0\n",
    "    for j in range(start, stop + 1):\n",
    "        den = 1\n",
    "        for r in range(start, stop + 1):\n",
    "            if (r != j):\n",
    "                den = den * (x[j] - x[r])\n",
    "        sum = sum + y[j] / den\n",
    "    return sum"
   ]
  },
  {
   "cell_type": "code",
   "execution_count": 10,
   "metadata": {},
   "outputs": [
    {
     "name": "stdout",
     "output_type": "stream",
     "text": [
      "[0.4611174269925238, -2.8581147077007207, 7.475254253695168, -9.95110080992439, 6.627402927773617, -1.7473516731800744]\n"
     ]
    }
   ],
   "source": [
    "coeff = [-x[i] for i in range(len(x))]\n",
    "poly_n = [0 for i in range(len(x))]\n",
    "denominator = [0 for i in range(len(x) - 1)]\n",
    "\n",
    "for j in reversed(range(len(x))):\n",
    "    coeff.pop(j)\n",
    "    result = vieta(coeff)\n",
    "    b = split(x, y, 0, j)\n",
    "    for i in range(len(result)):\n",
    "        result[i] = result[i] * b\n",
    "    h = len(x) - len(result)\n",
    "    for k in range(h):\n",
    "        result.insert(0, 0)\n",
    "    for i in range(len(poly_n)):\n",
    "        poly_n[i] = poly_n[i] + result[i]\n",
    "\n",
    "print(poly_n)"
   ]
  },
  {
   "cell_type": "code",
   "execution_count": 53,
   "metadata": {},
   "outputs": [],
   "source": [
    "def pl(coeff, data):\n",
    "    res = 0\n",
    "    coeff.reverse()\n",
    "    for i in range(len(coeff)):\n",
    "        res+= coeff[i] * data **i\n",
    "    return res"
   ]
  },
  {
   "cell_type": "code",
   "execution_count": 54,
   "metadata": {},
   "outputs": [
    {
     "name": "stdout",
     "output_type": "stream",
     "text": [
      "0.5310073127801722\n"
     ]
    }
   ],
   "source": [
    "print(pl(poly_n, 2))"
   ]
  },
  {
   "cell_type": "markdown",
   "metadata": {},
   "source": [
    "Коэффициенты многочленов Ньютона и Лагранжа практически совпадают"
   ]
  },
  {
   "cell_type": "markdown",
   "metadata": {},
   "source": [
    "3. **Кубический сплайн**"
   ]
  },
  {
   "cell_type": "code",
   "execution_count": 11,
   "metadata": {},
   "outputs": [],
   "source": [
    "d_poly = [0 for i in range(len(poly_n) - 1)] #коэффиценты производной\n",
    "for i in range(len(poly_n) - 1):\n",
    "    d_poly[i] = poly_n[i] * (len(poly_n) - 1 - i)"
   ]
  },
  {
   "cell_type": "code",
   "execution_count": 12,
   "metadata": {},
   "outputs": [],
   "source": [
    "a = [[0 for j in range(4)] for i in range(len(x) - 1)]\n",
    "\n",
    "for i in range(len(a)):\n",
    "    a[i][3] = ( np.polyval(d_poly, x[i+1]) * (x[i+1] - x[i]) - 2 * (y[i+1] - y[i]) +  np.polyval(d_poly, x[i]) * (x[i+1] - x[i])) / (x[i+1] - x[i])**3\n",
    "\n",
    "    a[i][2] = ( -np.polyval(d_poly, x[i+1]) * (x[i+1] - x[i]) * (x[i+1] + 2 * x[i]) + 3 * (y[i+1] - y[i]) * (x[i+1] + x[i]) - np.polyval(d_poly, x[i]) * (x[i+1] - x[i]) * (x[i] + 2 * x[i + 1])) / (x[i+1] - x[i])**3\n",
    "\n",
    "    a[i][1] = ( np.polyval(d_poly, x[i+1]) * x[i] * (2 * x[i+1] + x[i]) * (x[i+1] - x[i]) - 6 * (y[i+1] - y[i]) * x[i] * x[i+1] + np.polyval(d_poly, x[i]) * x[i+1] * (x[i+1] + 2 * x[i]) * (x[i+1] - x[i])) / (x[i+1] - x[i])**3\n",
    "\n",
    "    a[i][0] = ( - np.polyval(d_poly, x[i+1]) * x[i]**2 * x[i+1] * (x[i+1] - x[i]) + y[i+1] * x[i]**2 * (3 * x[i+1] - x[i]) + y[i] * x[i+1]**2 * (x[i+1] - 3 * x[i]) - np.polyval(d_poly, x[i]) * x[i+1]**2 * x[i] * (x[i+1] - x[i])) / (x[i+1] - x[i])**3"
   ]
  },
  {
   "cell_type": "code",
   "execution_count": 13,
   "metadata": {},
   "outputs": [
    {
     "name": "stdout",
     "output_type": "stream",
     "text": [
      "[-0.694089912470455, 1.9651481528125994, -1.851497183789233, 0.5880173840614255]\n",
      "\n",
      "[-0.7060200545802033, 1.8985992133854908, -1.7185768554135161, 0.5303479078520804]\n",
      "\n",
      "[-5.031333204532089, 10.036099338525243, -6.82061400120822, 1.5963849438635997]\n",
      "\n",
      "[-20.815942835959024, 34.55071722722939, -19.511114725435025, 3.7861349304942027]\n",
      "\n",
      "[-59.92271348075351, 86.0800881433277, -42.14355026744888, 7.099591429345727]\n",
      "\n"
     ]
    }
   ],
   "source": [
    "for i in range(len(a)):\n",
    "    print(a[i])\n",
    "    print()"
   ]
  },
  {
   "cell_type": "code",
   "execution_count": 26,
   "metadata": {},
   "outputs": [],
   "source": [
    "def sp(a, data):\n",
    "    return a[0] + a[1] * data + a[2] * data**2 + a[3] * data**3\n",
    "    "
   ]
  },
  {
   "cell_type": "code",
   "execution_count": 50,
   "metadata": {},
   "outputs": [
    {
     "name": "stdout",
     "output_type": "stream",
     "text": [
      "0.5301121607132835\n"
     ]
    }
   ],
   "source": [
    "print(sp(a[3], 2))"
   ]
  },
  {
   "cell_type": "code",
   "execution_count": 18,
   "metadata": {},
   "outputs": [],
   "source": [
    "s = []\n",
    "\n",
    "for i in range(len(a)):\n",
    "    temp = a[i][0] + a[i][1] * x[i] + a[i][2] * x[i]**2 + a[i][3] * x[i]**3\n",
    "    s.append(temp)"
   ]
  },
  {
   "cell_type": "code",
   "execution_count": 19,
   "metadata": {},
   "outputs": [
    {
     "name": "stdout",
     "output_type": "stream",
     "text": [
      "0.0016099999999998338\n",
      "\n",
      "0.01550000000000018\n",
      "\n",
      "0.09138999999999697\n",
      "\n",
      "0.393290000000043\n",
      "\n",
      "1.357290000000006\n",
      "\n"
     ]
    }
   ],
   "source": [
    "for i in range(len(s)):\n",
    "    print(s[i])\n",
    "    print()"
   ]
  },
  {
   "cell_type": "markdown",
   "metadata": {},
   "source": [
    "Для проверки правильности построения кубического сплайна выпишем значения сплайна в узлах полинома."
   ]
  },
  {
   "cell_type": "code",
   "execution_count": 14,
   "metadata": {},
   "outputs": [
    {
     "name": "stdout",
     "output_type": "stream",
     "text": [
      "0 : 0.001610 0.015500\n",
      "1 : 0.015500 0.091390\n",
      "2 : 0.091390 0.393290\n",
      "3 : 0.393290 1.357290\n",
      "4 : 1.357290 3.978190\n"
     ]
    }
   ],
   "source": [
    "for i in range(len(a)):\n",
    "    u1 = a[i][3] * x[i]**3 + a[i][2] * x[i]**2 + a[i][1] * x[i] + a[i][0]\n",
    "    u2 = a[i][3] * x[i+1]**3 + a[i][2] * x[i+1]**2 + a[i][1] * x[i+1] + a[i][0]\n",
    "    print(i,':', \"{:.6f}\".format(u1), \"{:.6f}\".format(u2))"
   ]
  },
  {
   "cell_type": "code",
   "execution_count": 15,
   "metadata": {},
   "outputs": [
    {
     "name": "stdout",
     "output_type": "stream",
     "text": [
      "0 : 0.077075 0.074156\n",
      "1 : 0.074156 0.425280\n",
      "2 : 0.425280 1.499017\n",
      "3 : 1.499017 4.485570\n",
      "4 : 4.485570 11.396367\n"
     ]
    }
   ],
   "source": [
    "for i in range(len(a)):\n",
    "    u1 = 3 * a[i][3] * x[i]**2 + 2 * a[i][2] * x[i] + a[i][1]\n",
    "    u2 = 3 * a[i][3] * x[i+1]**2 + 2 * a[i][2] * x[i+1] + a[i][1]\n",
    "    print(i,':', \"{:.6f}\".format(u1), \"{:.6f}\".format(u2))"
   ]
  },
  {
   "cell_type": "markdown",
   "metadata": {},
   "source": [
    "Значения производной также совпадают на концах. Кубический сплайн построен верно."
   ]
  },
  {
   "cell_type": "code",
   "execution_count": null,
   "metadata": {},
   "outputs": [],
   "source": []
  },
  {
   "cell_type": "code",
   "execution_count": null,
   "metadata": {},
   "outputs": [],
   "source": []
  },
  {
   "cell_type": "code",
   "execution_count": null,
   "metadata": {},
   "outputs": [],
   "source": []
  }
 ],
 "metadata": {
  "kernelspec": {
   "display_name": "Python 3",
   "language": "python",
   "name": "python3"
  },
  "language_info": {
   "codemirror_mode": {
    "name": "ipython",
    "version": 3
   },
   "file_extension": ".py",
   "mimetype": "text/x-python",
   "name": "python",
   "nbconvert_exporter": "python",
   "pygments_lexer": "ipython3",
   "version": "3.8.5"
  }
 },
 "nbformat": 4,
 "nbformat_minor": 4
}
